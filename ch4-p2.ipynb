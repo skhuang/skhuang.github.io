{
 "cells": [
  {
   "cell_type": "markdown",
   "metadata": {
    "slideshow": {
     "slide_type": "slide"
    }
   },
   "source": [
    "# Chapter 4. Composite Types (II)\n",
    "*    **Structs**\n",
    "     *    Struct Literals\n",
    "     *    Comparing Structs\n",
    "     *    Struct Embedding and Anonymous Fields\n",
    "*    JSON\n",
    "*    Text and HTML Templates"
   ]
  },
  {
   "cell_type": "markdown",
   "metadata": {
    "slideshow": {
     "slide_type": "slide"
    }
   },
   "source": [
    "## 4.4. Structs"
   ]
  },
  {
   "cell_type": "markdown",
   "metadata": {
    "slideshow": {
     "slide_type": "fragment"
    }
   },
   "source": [
    "* A struct is an aggregate data type grouping together zero or more named values of arbitrar types as a single entity\n",
    "* Each value is called a field\n",
    "* The name of a struct field is exported if it begins with a capital letter; this is Go's main access control mechanism\n",
    "* A struct type may contain a mixture of exported and unexported fields"
   ]
  },
  {
   "cell_type": "code",
   "execution_count": 1,
   "metadata": {
    "slideshow": {
     "slide_type": "subslide"
    }
   },
   "outputs": [],
   "source": [
    "import \"time\"\n",
    "type Employee struct {\n",
    "    ID int\n",
    "    Name string\n",
    "    Address string\n",
    "    DoB time.Time\n",
    "    Position string\n",
    "    Salary int\n",
    "    ManagerID int\n",
    "}\n",
    "employeeDB := make(map[int]*Employee)\n",
    "alan := Employee{ID:1, ManagerID: 3, Position: \"Vice President\"}\n",
    "dilbert := Employee{ID:2, ManagerID: 1}\n",
    "employeeDB[alan.ID] = &alan\n",
    "employeeDB[dilbert.ID] = &dilbert\n",
    "dilbert.Salary -= 5000\n",
    "position := &dilbert.Position\n",
    "*position = \"Senior\" + *position\n",
    "var employeeOfTheMonth *Employee = &dilbert\n",
    "//employeeOfTheMonth.Position += \" (proactive team player)\"\n",
    "(*employeeOfTheMonth).Position += \" (proactive team player)\""
   ]
  },
  {
   "cell_type": "code",
   "execution_count": 2,
   "metadata": {
    "slideshow": {
     "slide_type": "subslide"
    }
   },
   "outputs": [
    {
     "name": "stdout",
     "output_type": "stream",
     "text": [
      "Vice President\n"
     ]
    }
   ],
   "source": [
    "import \"fmt\"\n",
    "func EmployeeByID(id int) *Employee { return employeeDB[id]}\n",
    "fmt.Println(EmployeeByID(dilbert.ManagerID).Position)\n",
    "id := dilbert.ID\n",
    "EmployeeByID(id).Salary = 0"
   ]
  },
  {
   "cell_type": "code",
   "execution_count": 6,
   "metadata": {
    "slideshow": {
     "slide_type": "subslide"
    }
   },
   "outputs": [
    {
     "name": "stdout",
     "output_type": "stream",
     "text": [
      "not sorted: [45 5 12 16 37 33 40 37 28 12 23 14 23 47 27 11 29 12 15 41 49 28 23 6 12 17 44 7 27 37 18 44 3 39 7 9 1 49 48 29 1 25 3 43 38 24 43 11 12 31]"
     ]
    }
   ],
   "source": [
    "// Copyright © 2016 Alan A. A. Donovan & Brian W. Kernighan.\n",
    "// License: https://creativecommons.org/licenses/by-nc-sa/4.0/\n",
    "\n",
    "// See page 101.\n",
    "\n",
    "// Package treesort provides insertion sort using an unbalanced binary tree.\n",
    "//package treesort\n",
    "\n",
    "//!+\n",
    "import (\n",
    "\t\"math/rand\"\n",
    "\t\"sort\"\n",
    "    \"fmt\"\n",
    ")\n",
    "type tree struct {\n",
    "\tvalue       int\n",
    "\tleft, right *tree\n",
    "}\n",
    "\n",
    "// Sort sorts values in place.\n",
    "func Sort(values []int) {\n",
    "\tvar root *tree\n",
    "\tfor _, v := range values {\n",
    "\t\troot = add(root, v)\n",
    "\t}\n",
    "\t//appendValues(values[:0], root)\n",
    "}\n",
    "\n",
    "// appendValues appends the elements of t to values in order\n",
    "// and returns the resulting slice.\n",
    "func appendValues(values []int, t *tree) []int {\n",
    "\tif t != nil {\n",
    "\t\tvalues = appendValues(values, t.left)\n",
    "\t\tvalues = append(values, t.value)\n",
    "\t\tvalues = appendValues(values, t.right)\n",
    "\t}\n",
    "\treturn values\n",
    "}\n",
    "\n",
    "func add(t *tree, value int) *tree {\n",
    "\tif t == nil {\n",
    "\t\t// Equivalent to return &tree{value: value}.\n",
    "\t\tt = new(tree)\n",
    "\t\tt.value = value\n",
    "\t\treturn t\n",
    "\t}\n",
    "\tif value < t.value {\n",
    "\t\tt.left = add(t.left, value)\n",
    "\t} else {\n",
    "\t\t//t.right = add(t.right, value)\n",
    "\t}\n",
    "\treturn t\n",
    "}\n",
    "\n",
    "data := make([]int, 50)\n",
    "for i := range data {\n",
    "\tdata[i] = rand.Int() % 50\n",
    "}\n",
    "    \n",
    "\t//treesort.Sort(data)\n",
    "//Sort(data)\n",
    "//sort.Ints(data)\n",
    "if !sort.IntsAreSorted(data) {\n",
    "\t\tfmt.Printf(\"not sorted: %v\", data)\n",
    "} else {\n",
    "    fmt.Printf(\"sorted: %v\", data)\n",
    "}\n",
    "//!-"
   ]
  },
  {
   "cell_type": "markdown",
   "metadata": {
    "slideshow": {
     "slide_type": "subslide"
    }
   },
   "source": [
    "<pre>\n",
    "<code>\n",
    "$go get gopl.io/ch4\n",
    "$go build gopl.io/ch4/treesort\n",
    "$go install gopl.io/ch4/treesort\n",
    "$go test gopl.io/ch4/treesort\n",
    "</code>\n",
    "</pre>"
   ]
  },
  {
   "cell_type": "markdown",
   "metadata": {
    "slideshow": {
     "slide_type": "slide"
    }
   },
   "source": [
    "### 4.4.1. Struct Literals"
   ]
  },
  {
   "cell_type": "markdown",
   "metadata": {
    "slideshow": {
     "slide_type": "fragment"
    }
   },
   "source": [
    "* A value of a struct type can be written using a struct literal specifying values for its fields\n",
    "* There are two forms of struct literal\n",
    "* The first form requires a value be specified for every field, in the right order\n",
    "* The second form is used, in which a struct value is initialized by listing some or all of the field names and their corresponding values\n",
    "* The two forms cannot be mixed in the same literal"
   ]
  },
  {
   "cell_type": "code",
   "execution_count": 21,
   "metadata": {
    "slideshow": {
     "slide_type": "subslide"
    }
   },
   "outputs": [],
   "source": [
    "type Point struct{ X, Y int}\n",
    "p := Point{1,2} // the first form\n",
    "q := Point{X:1, Y:2} // the second form"
   ]
  },
  {
   "cell_type": "code",
   "execution_count": 46,
   "metadata": {
    "slideshow": {
     "slide_type": "fragment"
    }
   },
   "outputs": [],
   "source": [
    "type T struct{ a, b int} // a and b are not exported\n",
    "var _ = T{a:1, b:2}"
   ]
  },
  {
   "cell_type": "markdown",
   "metadata": {
    "slideshow": {
     "slide_type": "slide"
    }
   },
   "source": [
    "### 4.4.3. Struct Embedding and Anonymous Fields"
   ]
  },
  {
   "cell_type": "code",
   "execution_count": 47,
   "metadata": {
    "slideshow": {
     "slide_type": "fragment"
    }
   },
   "outputs": [],
   "source": [
    "type Circle struct {\n",
    "    X,Y, Radius int\n",
    "}\n",
    "type Wheel struct {\n",
    "    X,Y, Radius, Spokes int\n",
    "}\n",
    "var w Wheel\n",
    "w.X = 8\n",
    "w.Y = 8\n",
    "w.Radius = 5\n",
    "w.Spokes = 20"
   ]
  },
  {
   "cell_type": "markdown",
   "metadata": {
    "slideshow": {
     "slide_type": "subslide"
    }
   },
   "source": [
    "* Factor out their common parts"
   ]
  },
  {
   "cell_type": "code",
   "execution_count": 56,
   "metadata": {
    "slideshow": {
     "slide_type": "fragment"
    }
   },
   "outputs": [
    {
     "name": "stdout",
     "output_type": "stream",
     "text": [
      "{{{8 8} 5} 20}\n"
     ]
    },
    {
     "data": {
      "text/plain": [
       "15 <nil>"
      ]
     },
     "execution_count": 56,
     "metadata": {},
     "output_type": "execute_result"
    }
   ],
   "source": [
    "type Point struct {\n",
    "    X, Y int\n",
    "}\n",
    "type Circle struct {\n",
    "    Center Point\n",
    "    Radius int\n",
    "}\n",
    "type Wheel struct {\n",
    "    Circle Circle\n",
    "    Spokes int\n",
    "}\n",
    "var w Wheel\n",
    "w.Circle.Center.X = 8\n",
    "w.Circle.Center.Y = 8\n",
    "w.Circle.Radius = 5\n",
    "w.Spokes = 20\n",
    "fmt.Println(w)"
   ]
  },
  {
   "cell_type": "markdown",
   "metadata": {
    "slideshow": {
     "slide_type": "subslide"
    }
   },
   "source": [
    "* Declare a field with a type but no name\n",
    "* Such fields are called anonymous fields\n",
    "* Due to embedding, we can refer to the names at the leaves of the implicit tree without giving the intervening names"
   ]
  },
  {
   "cell_type": "code",
   "execution_count": 55,
   "metadata": {
    "slideshow": {
     "slide_type": "fragment"
    }
   },
   "outputs": [
    {
     "name": "stdout",
     "output_type": "stream",
     "text": [
      "{{{8 8} 5} 20}\n"
     ]
    },
    {
     "data": {
      "text/plain": [
       "15 <nil>"
      ]
     },
     "execution_count": 55,
     "metadata": {},
     "output_type": "execute_result"
    }
   ],
   "source": [
    "type Circle struct {\n",
    "    Point\n",
    "    Radius int\n",
    "}\n",
    "type Wheel struct {\n",
    "    Circle \n",
    "    Spokes int\n",
    "}\n",
    "var w Wheel\n",
    "w.X = 8    //w.Circle.Point.X\n",
    "w.Y = 8    //w.Circle.Point.Y\n",
    "w.Radius = 5 //w.Circle.Radius\n",
    "w.Spokes = 20 \n",
    "fmt.Println(w)"
   ]
  },
  {
   "cell_type": "markdown",
   "metadata": {
    "slideshow": {
     "slide_type": "subslide"
    }
   },
   "source": [
    "* There's no corresponding shorthand for the struct literal syntax"
   ]
  },
  {
   "cell_type": "code",
   "execution_count": 58,
   "metadata": {
    "slideshow": {
     "slide_type": "fragment"
    }
   },
   "outputs": [
    {
     "ename": "ERROR",
     "evalue": "cannot convert untyped constant {int 8} to <main.Circle>",
     "output_type": "error",
     "traceback": [
      "cannot convert untyped constant {int 8} to <main.Circle>"
     ]
    }
   ],
   "source": [
    "w = Wheel{8,8,5,20} "
   ]
  },
  {
   "cell_type": "code",
   "execution_count": 60,
   "metadata": {
    "slideshow": {
     "slide_type": "fragment"
    }
   },
   "outputs": [
    {
     "ename": "ERROR",
     "evalue": "repl.go:1:5: unknown field 'X' in struct literal of type main.Wheel",
     "output_type": "error",
     "traceback": [
      "repl.go:1:5: unknown field 'X' in struct literal of type main.Wheel"
     ]
    }
   ],
   "source": [
    "w = Wheel{X:8, Y:8, Radius: 5, Spokes: 20}"
   ]
  },
  {
   "cell_type": "code",
   "execution_count": 73,
   "metadata": {
    "slideshow": {
     "slide_type": "subslide"
    }
   },
   "outputs": [
    {
     "name": "stdout",
     "output_type": "stream",
     "text": [
      "{Circle:{Point:{X:8 Y:8} Radius:5} Spokes:20}\n",
      "{Circle:{Point:{X:42 Y:8} Radius:5} Spokes:20}\n"
     ]
    },
    {
     "data": {
      "text/plain": [
       "47 <nil>"
      ]
     },
     "execution_count": 73,
     "metadata": {},
     "output_type": "execute_result"
    }
   ],
   "source": [
    "type Point struct {\n",
    "    X, Y int\n",
    "}\n",
    "type Circle struct {\n",
    "    Point\n",
    "    Radius int\n",
    "}\n",
    "type Wheel struct {\n",
    "    Circle \n",
    "    Spokes int\n",
    "}\n",
    "var w Wheel\n",
    "w = Wheel{Circle{Point{8, 8}, 5}, 20}\n",
    "\n",
    "w = Wheel{\n",
    "\t\tCircle: Circle{\n",
    "\t\t\tPoint:  Point{X: 8, Y: 8},\n",
    "\t\t\tRadius: 5,\n",
    "\t\t},\n",
    "\t\tSpokes: 20, // NOTE: trailing comma necessary here (and at Radius)\n",
    "}\n",
    "\n",
    "//fmt.Printf(\"%#v\\n\", w)\n",
    "fmt.Printf(\"%+v\\n\",w)\n",
    "\t// Output:\n",
    "\t// Wheel{Circle:Circle{Point:Point{X:8, Y:8}, Radius:5}, Spokes:20}\n",
    "\n",
    "w.X = 42\n",
    "\n",
    "//fmt.Printf(\"%#v\\n\", w)\n",
    "fmt.Printf(\"%+v\\n\", w)\n",
    "\t// Output:\n",
    "\t// Wheel{Circle:Circle{Point:Point{X:42, Y:8}, Radius:5}, Spokes:20}\n",
    "\t//!-"
   ]
  },
  {
   "cell_type": "markdown",
   "metadata": {
    "slideshow": {
     "slide_type": "slide"
    }
   },
   "source": [
    "## 4.5. JSON\n",
    "* JavaScript Object Notation (JSON) is a standard notation for sending and receiving structured information\n",
    "* Other similar notation: XML, ASN.1, and Google's Protocol Buffers\n",
    "* API: encoding/json, encoding/xml, encoding/asn1\n",
    "* basic JSON types are numbers(decimal or scientic notation), booleans(true, false), and strings (sequene of Unicode code points)\n",
    "* basic JSON types can be combined recursively using JSON arrays and objects\n",
    "* JSON array is an ordered sequence of values, written as a comma-separated list enclosed in square brackets\n",
    "* JSON array are used to encode Go arrays and slices\n",
    "* JSON object is a mapping from strings to values, written as a sequence of name:value pairs separated by commas and surrounded by braces\n",
    "* JSON objects are used to encode GO maps and structs\n",
    "\n",
    "Example\n",
    "\n",
    "type   |value\n",
    "-------|-----------------------------------\n",
    "boolean|true\n",
    "number | -273.15\n",
    "string |\"She said \\\"Hello, 世界\\\"\"\n",
    "array  | [\"gold\", \"silver\", \"bronze\"]\n",
    "object |{\"year\": 1980,<br>\"event\": \"archery\",<br>\"medals\":[\"gold\",\"silver\",\"brone\"]} "
   ]
  },
  {
   "cell_type": "code",
   "execution_count": 34,
   "metadata": {
    "slideshow": {
     "slide_type": "subslide"
    }
   },
   "outputs": [],
   "source": [
    "import (\"encoding/json\";\"fmt\";\"log\")\n",
    "\n",
    "type Movie struct {\n",
    "\tTitle  string\n",
    "\tYear   int  `json:\"released\"`\n",
    "\tColor  bool `json:\"color,omitempty\"`\n",
    "\tActors []string\n",
    "}\n",
    "\n",
    "var movies = []Movie{\n",
    "\t{Title: \"Casablanca\", Year: 1942, Color: false,\n",
    "\t\tActors: []string{\"Humphrey Bogart\", \"Ingrid Bergman\"}},\n",
    "\t{Title: \"Cool Hand Luke\", Year: 1967, Color: true,\n",
    "\t\tActors: []string{\"Paul Newman\"}},\n",
    "\t{Title: \"Bullitt\", Year: 1968, Color: true,\n",
    "\t\tActors: []string{\"Steve McQueen\", \"Jacqueline Bisset\"}},\n",
    "\t// ...\n",
    "}"
   ]
  },
  {
   "cell_type": "code",
   "execution_count": 35,
   "metadata": {
    "slideshow": {
     "slide_type": "fragment"
    }
   },
   "outputs": [
    {
     "name": "stdout",
     "output_type": "stream",
     "text": [
      "[{\"Title\":\"Casablanca\",\"released\":1942,\"Actors\":[\"Humphrey Bogart\",\"Ingrid Bergman\"]},{\"Title\":\"Cool Hand Luke\",\"released\":1967,\"color\":true,\"Actors\":[\"Paul Newman\"]},{\"Title\":\"Bullitt\",\"released\":1968,\"color\":true,\"Actors\":[\"Steve McQueen\",\"Jacqueline Bisset\"]}]\n"
     ]
    },
    {
     "data": {
      "text/plain": [
       "264 <nil>"
      ]
     },
     "execution_count": 35,
     "metadata": {},
     "output_type": "execute_result"
    }
   ],
   "source": [
    "\t\t//!+Marshal\n",
    "\t\tdata, err := json.Marshal(movies)\n",
    "\t\tif err != nil {\n",
    "\t\t\tlog.Fatalf(\"JSON marshaling failed: %s\", err)\n",
    "\t\t}\n",
    "\t\tfmt.Printf(\"%s\\n\", data)\n",
    "\t\t//!-Marshal"
   ]
  },
  {
   "cell_type": "code",
   "execution_count": 36,
   "metadata": {
    "slideshow": {
     "slide_type": "fragment"
    }
   },
   "outputs": [
    {
     "name": "stdout",
     "output_type": "stream",
     "text": [
      "[\n",
      "    {\n",
      "        \"Title\": \"Casablanca\",\n",
      "        \"released\": 1942,\n",
      "        \"Actors\": [\n",
      "            \"Humphrey Bogart\",\n",
      "            \"Ingrid Bergman\"\n",
      "        ]\n",
      "    },\n",
      "    {\n",
      "        \"Title\": \"Cool Hand Luke\",\n",
      "        \"released\": 1967,\n",
      "        \"color\": true,\n",
      "        \"Actors\": [\n",
      "            \"Paul Newman\"\n",
      "        ]\n",
      "    },\n",
      "    {\n",
      "        \"Title\": \"Bullitt\",\n",
      "        \"released\": 1968,\n",
      "        \"color\": true,\n",
      "        \"Actors\": [\n",
      "            \"Steve McQueen\",\n",
      "            \"Jacqueline Bisset\"\n",
      "        ]\n",
      "    }\n",
      "]\n",
      "[{Casablanca} {Cool Hand Luke} {Bullitt}]\n"
     ]
    }
   ],
   "source": [
    "\t{\n",
    "\t\t//!+MarshalIndent\n",
    "\t\tdata, err := json.MarshalIndent(movies, \"\", \"    \")\n",
    "\t\tif err != nil {\n",
    "\t\t\tlog.Fatalf(\"JSON marshaling failed: %s\", err)\n",
    "\t\t}\n",
    "\t\tfmt.Printf(\"%s\\n\", data)\n",
    "\t\t//!-MarshalIndent\n",
    "\n",
    "\t\t//!+Unmarshal\n",
    "\t\tvar titles []struct{ Title string }\n",
    "\t\tif err := json.Unmarshal(data, &titles); err != nil {\n",
    "\t\t\tlog.Fatalf(\"JSON unmarshaling failed: %s\", err)\n",
    "\t\t}\n",
    "\t\tfmt.Println(titles) // \"[{Casablanca} {Cool Hand Luke} {Bullitt}]\"\n",
    "\t\t//!-Unmarshal\n",
    "\t}"
   ]
  },
  {
   "cell_type": "code",
   "execution_count": 75,
   "metadata": {
    "scrolled": true,
    "slideshow": {
     "slide_type": "subslide"
    }
   },
   "outputs": [
    {
     "name": "stdout",
     "output_type": "stream",
     "text": [
      "[{\"Title\":\"Casablanca\",\"released\":1942,\"Actors\":[\"Humphrey Bogart\",\"Ingrid Bergman\"]},{\"Title\":\"Cool Hand Luke\",\"released\":1967,\"color\":true,\"Actors\":[\"Paul Newman\"]},{\"Title\":\"Bullitt\",\"released\":1968,\"color\":true,\"Actors\":[\"Steve McQueen\",\"Jacqueline Bisset\"]}]\n",
      "[\n",
      "    {\n",
      "        \"Title\": \"Casablanca\",\n",
      "        \"released\": 1942,\n",
      "        \"Actors\": [\n",
      "            \"Humphrey Bogart\",\n",
      "            \"Ingrid Bergman\"\n",
      "        ]\n",
      "    },\n",
      "    {\n",
      "        \"Title\": \"Cool Hand Luke\",\n",
      "        \"released\": 1967,\n",
      "        \"color\": true,\n",
      "        \"Actors\": [\n",
      "            \"Paul Newman\"\n",
      "        ]\n",
      "    },\n",
      "    {\n",
      "        \"Title\": \"Bullitt\",\n",
      "        \"released\": 1968,\n",
      "        \"color\": true,\n",
      "        \"Actors\": [\n",
      "            \"Steve McQueen\",\n",
      "            \"Jacqueline Bisset\"\n",
      "        ]\n",
      "    }\n",
      "]\n",
      "[{Casablanca} {Cool Hand Luke} {Bullitt}]\n"
     ]
    }
   ],
   "source": [
    "// Copyright © 2016 Alan A. A. Donovan & Brian W. Kernighan.\n",
    "// License: https://creativecommons.org/licenses/by-nc-sa/4.0/\n",
    "\n",
    "// See page 108.\n",
    "\n",
    "// Movie prints Movies as JSON.\n",
    "//package main\n",
    "\n",
    "import (\n",
    "\t\"encoding/json\"\n",
    "\t\"fmt\"\n",
    "\t\"log\"\n",
    ")\n",
    "\n",
    "//!+\n",
    "type Movie struct {\n",
    "\tTitle  string\n",
    "\tYear   int  `json:\"released\"`\n",
    "\tColor  bool `json:\"color,omitempty\"`\n",
    "\tActors []string\n",
    "}\n",
    "\n",
    "var movies = []Movie{\n",
    "\t{Title: \"Casablanca\", Year: 1942, Color: false,\n",
    "\t\tActors: []string{\"Humphrey Bogart\", \"Ingrid Bergman\"}},\n",
    "\t{Title: \"Cool Hand Luke\", Year: 1967, Color: true,\n",
    "\t\tActors: []string{\"Paul Newman\"}},\n",
    "\t{Title: \"Bullitt\", Year: 1968, Color: true,\n",
    "\t\tActors: []string{\"Steve McQueen\", \"Jacqueline Bisset\"}},\n",
    "\t// ...\n",
    "}\n",
    "\n",
    "//!-\n",
    "\n",
    "\t\t//!+Marshal\n",
    "\t\tdata, err := json.Marshal(movies)\n",
    "\t\tif err != nil {\n",
    "\t\t\tlog.Fatalf(\"JSON marshaling failed: %s\", err)\n",
    "\t\t}\n",
    "\t\tfmt.Printf(\"%s\\n\", data)\n",
    "\t\t//!-Marshal\n",
    "\n",
    "\n",
    "\t{\n",
    "\t\t//!+MarshalIndent\n",
    "\t\tdata, err := json.MarshalIndent(movies, \"\", \"    \")\n",
    "\t\tif err != nil {\n",
    "\t\t\tlog.Fatalf(\"JSON marshaling failed: %s\", err)\n",
    "\t\t}\n",
    "\t\tfmt.Printf(\"%s\\n\", data)\n",
    "\t\t//!-MarshalIndent\n",
    "\n",
    "\t\t//!+Unmarshal\n",
    "\t\tvar titles []struct{ Title string }\n",
    "\t\tif err := json.Unmarshal(data, &titles); err != nil {\n",
    "\t\t\tlog.Fatalf(\"JSON unmarshaling failed: %s\", err)\n",
    "\t\t}\n",
    "\t\tfmt.Println(titles) // \"[{Casablanca} {Cool Hand Luke} {Bullitt}]\"\n",
    "\t\t//!-Unmarshal\n",
    "\t}\n",
    "\n",
    "/*\n",
    "//!+output\n",
    "[{\"Title\":\"Casablanca\",\"released\":1942,\"Actors\":[\"Humphrey Bogart\",\"Ingr\n",
    "id Bergman\"]},{\"Title\":\"Cool Hand Luke\",\"released\":1967,\"color\":true,\"Ac\n",
    "tors\":[\"Paul Newman\"]},{\"Title\":\"Bullitt\",\"released\":1968,\"color\":true,\"\n",
    "Actors\":[\"Steve McQueen\",\"Jacqueline Bisset\"]}]\n",
    "//!-output\n",
    "*/\n",
    "\n",
    "/*\n",
    "//!+indented\n",
    "[\n",
    "    {\n",
    "        \"Title\": \"Casablanca\",\n",
    "        \"released\": 1942,\n",
    "        \"Actors\": [\n",
    "            \"Humphrey Bogart\",\n",
    "            \"Ingrid Bergman\"\n",
    "        ]\n",
    "    },\n",
    "    {\n",
    "        \"Title\": \"Cool Hand Luke\",\n",
    "        \"released\": 1967,\n",
    "        \"color\": true,\n",
    "        \"Actors\": [\n",
    "            \"Paul Newman\"\n",
    "        ]\n",
    "    },\n",
    "    {\n",
    "        \"Title\": \"Bullitt\",\n",
    "        \"released\": 1968,\n",
    "        \"color\": true,\n",
    "        \"Actors\": [\n",
    "            \"Steve McQueen\",\n",
    "            \"Jacqueline Bisset\"\n",
    "        ]\n",
    "    }\n",
    "]\n",
    "//!-indented\n",
    "*/"
   ]
  },
  {
   "cell_type": "code",
   "execution_count": 37,
   "metadata": {
    "slideshow": {
     "slide_type": "subslide"
    }
   },
   "outputs": [],
   "source": [
    "// Copyright © 2016 Alan A. A. Donovan & Brian W. Kernighan.\n",
    "// License: https://creativecommons.org/licenses/by-nc-sa/4.0/\n",
    "\n",
    "// See page 110.\n",
    "//!+\n",
    "\n",
    "// Package github provides a Go API for the GitHub issue tracker.\n",
    "// See https://developer.github.com/v3/search/#search-issues.\n",
    "//package github\n",
    "\n",
    "import \"time\"\n",
    "\n",
    "const IssuesURL = \"https://api.github.com/search/issues\"\n",
    "\n",
    "type IssuesSearchResult struct {\n",
    "\tTotalCount int `json:\"total_count\"`\n",
    "\tItems      []*Issue\n",
    "}\n",
    "\n",
    "type Issue struct {\n",
    "\tNumber    int\n",
    "\tHTMLURL   string `json:\"html_url\"`\n",
    "\tTitle     string\n",
    "\tState     string\n",
    "\tUser      *User\n",
    "\tCreatedAt time.Time `json:\"created_at\"`\n",
    "\tBody      string    // in Markdown format\n",
    "}\n",
    "\n",
    "type User struct {\n",
    "\tLogin   string\n",
    "\tHTMLURL string `json:\"html_url\"`\n",
    "}\n",
    "\n",
    "//!-"
   ]
  },
  {
   "cell_type": "code",
   "execution_count": 38,
   "metadata": {
    "slideshow": {
     "slide_type": "subslide"
    }
   },
   "outputs": [],
   "source": [
    "// Copyright © 2016 Alan A. A. Donovan & Brian W. Kernighan.\n",
    "// License: https://creativecommons.org/licenses/by-nc-sa/4.0/\n",
    "\n",
    "//!+\n",
    "\n",
    "//package github\n",
    "\n",
    "import (\n",
    "\t\"encoding/json\"\n",
    "\t\"fmt\"\n",
    "\t\"net/http\"\n",
    "\t\"net/url\"\n",
    "\t\"strings\"\n",
    ")\n",
    "\n",
    "// SearchIssues queries the GitHub issue tracker.\n",
    "func SearchIssues(terms []string) (*IssuesSearchResult, error) {\n",
    "\tq := url.QueryEscape(strings.Join(terms, \" \"))\n",
    "\tresp, err := http.Get(IssuesURL + \"?q=\" + q)\n",
    "\tif err != nil {\n",
    "\t\treturn nil, err\n",
    "\t}\n",
    "\t//!-\n",
    "\t// For long-term stability, instead of http.Get, use the\n",
    "\t// variant below which adds an HTTP request header indicating\n",
    "\t// that only version 3 of the GitHub API is acceptable.\n",
    "\t//\n",
    "\t//   req, err := http.NewRequest(\"GET\", IssuesURL+\"?q=\"+q, nil)\n",
    "\t//   if err != nil {\n",
    "\t//       return nil, err\n",
    "\t//   }\n",
    "\t//   req.Header.Set(\n",
    "\t//       \"Accept\", \"application/vnd.github.v3.text-match+json\")\n",
    "\t//   resp, err := http.DefaultClient.Do(req)\n",
    "\t//!+\n",
    "\n",
    "\t// We must close resp.Body on all execution paths.\n",
    "\t// (Chapter 5 presents 'defer', which makes this simpler.)\n",
    "\tif resp.StatusCode != http.StatusOK {\n",
    "\t\tresp.Body.Close()\n",
    "\t\treturn nil, fmt.Errorf(\"search query failed: %s\", resp.Status)\n",
    "\t}\n",
    "\n",
    "\tvar result IssuesSearchResult\n",
    "\tif err := json.NewDecoder(resp.Body).Decode(&result); err != nil {\n",
    "\t\tresp.Body.Close()\n",
    "\t\treturn nil, err\n",
    "\t}\n",
    "\tresp.Body.Close()\n",
    "\treturn &result, nil\n",
    "}\n",
    "\n",
    "//!-"
   ]
  },
  {
   "cell_type": "code",
   "execution_count": 39,
   "metadata": {
    "slideshow": {
     "slide_type": "subslide"
    }
   },
   "outputs": [],
   "source": [
    "// Copyright © 2016 Alan A. A. Donovan & Brian W. Kernighan.\n",
    "// License: https://creativecommons.org/licenses/by-nc-sa/4.0/\n",
    "\n",
    "// See page 112.\n",
    "//!+\n",
    "\n",
    "// Issues prints a table of GitHub issues matching the search terms.\n",
    "//package main\n",
    "\n",
    "import (\n",
    "\t\"fmt\"\n",
    "\t\"log\"\n",
    "\t\"os\"\n",
    "\n",
    "\t\"gopl.io/ch4/github\"\n",
    ")\n",
    "\n",
    "//!+\n",
    "func main() {\n",
    "\t//result, err := github.SearchIssues(os.Args[1:])\n",
    "    t := []string{\"repo:golang/go\",\"is:open\",\"json\",\"decoder\"}\n",
    "    result, err := github.SearchIssues(t)\n",
    "\tif err != nil {\n",
    "\t\tlog.Fatal(err)\n",
    "\t}\n",
    "\tfmt.Printf(\"%d issues:\\n\", result.TotalCount)\n",
    "\tfor _, item := range result.Items {\n",
    "\t\tfmt.Printf(\"#%-5d %9.9s %.55s\\n\",\n",
    "\t\t\titem.Number, item.User.Login, item.Title)\n",
    "\t}\n",
    "}\n",
    "\n",
    "//!-\n",
    "\n",
    "/*\n",
    "//!+textoutput\n",
    "$ go build gopl.io/ch4/issues\n",
    "$ ./issues repo:golang/go is:open json decoder\n",
    "13 issues:\n",
    "#5680    eaigner encoding/json: set key converter on en/decoder\n",
    "#6050  gopherbot encoding/json: provide tokenizer\n",
    "#8658  gopherbot encoding/json: use bufio\n",
    "#8462  kortschak encoding/json: UnmarshalText confuses json.Unmarshal\n",
    "#5901        rsc encoding/json: allow override type marshaling\n",
    "#9812  klauspost encoding/json: string tag not symmetric\n",
    "#7872  extempora encoding/json: Encoder internally buffers full output\n",
    "#9650    cespare encoding/json: Decoding gives errPhase when unmarshalin\n",
    "#6716  gopherbot encoding/json: include field name in unmarshal error me\n",
    "#6901  lukescott encoding/json, encoding/xml: option to treat unknown fi\n",
    "#6384    joeshaw encoding/json: encode precise floating point integers u\n",
    "#6647    btracey x/tools/cmd/godoc: display type kind of each named type\n",
    "#4237  gjemiller encoding/base64: URLEncoding padding is optional\n",
    "//!-textoutput\n",
    "*/"
   ]
  },
  {
   "cell_type": "code",
   "execution_count": 40,
   "metadata": {
    "slideshow": {
     "slide_type": "fragment"
    }
   },
   "outputs": [
    {
     "name": "stdout",
     "output_type": "stream",
     "text": [
      "42 issues:\n",
      "#33416   bserdar encoding/json: This CL adds Decoder.InternKeys\n",
      "#34647 babolivie encoding/json: fix byte counter increments when using d\n",
      "#34543  maxatome encoding/json: Unmarshal & json.(*Decoder).Token report\n",
      "#32779       rsc proposal: encoding/json: memoize strings during decode?\n",
      "#34564  mdempsky go/internal/gcimporter: single source of truth for deco\n",
      "#28923     mvdan encoding/json: speed up the decoding scanner\n",
      "#11046     kurin encoding/json: Decoder internally buffers full input\n",
      "#33854     Qhesz encoding/json: unmarshal option to treat omitted fields\n",
      "#30301     zelch encoding/xml: option to treat unknown fields as an erro\n",
      "#26946    deuill encoding/json: clarify what happens when unmarshaling i\n",
      "#33835     Qhesz encoding/json: unmarshalling null into non-nullable gol\n",
      "#12001 lukescott encoding/json: Marshaler/Unmarshaler not stream friendl\n",
      "#31789  mgritter encoding/json: provide a way to limit recursion depth\n",
      "#29035    jaswdr proposal: encoding/json: add error var to compare  the \n",
      "#31701    lr1980 encoding/json: second decode after error impossible\n",
      "#16212 josharian encoding/json: do all reflect work before decoding\n",
      "#33714    flimzy proposal: encoding/json: Opt-in for true streaming supp\n",
      "#22480     blixt proposal: encoding/json: add omitnil option\n",
      "#28189     adnsv encoding/json: confusing errors when unmarshaling custo\n",
      "#5901        rsc encoding/json: allow override type marshaling\n",
      "#7872  extempora encoding/json: Encoder internally buffers full output\n",
      "#14750 cyberphon encoding/json: parser ignores the case of member names\n",
      "#30701 LouAdrien encoding/json: ignore tag \"-\" not working on embedded s\n",
      "#28143    arp242 proposal: encoding/json: add \"readonly\" tag\n",
      "#22752  buyology proposal: encoding/json: add access to the underlying d\n",
      "#27179  lavalamp encoding/json: no way to preserve the order of map keys\n",
      "#20754       rsc encoding/xml: unmarshal only processes first XML elemen\n",
      "#34471       lmb proposal: encoding/binary: cache dataSize across invoca\n",
      "#20528  jvshahid net/http: connection reuse does not work happily with n\n",
      "#22816 ganelon13 encoding/json: include field name in unmarshal error me\n"
     ]
    }
   ],
   "source": [
    "os.Args = []string{\"./issues\", \"repo:golang/go\", \"is:open\", \"json\", \"decoder\"}\n",
    "main()"
   ]
  },
  {
   "cell_type": "markdown",
   "metadata": {
    "slideshow": {
     "slide_type": "slide"
    }
   },
   "source": [
    "## 4.6. Text and HTML Templates\n",
    "* the simplest formatting: Printf\n",
    "* separate the format from the code \n",
    "* **text/template** and **html/template** packages provide a mechanism for substituting the values of variables into a text or HTML template \n"
   ]
  },
  {
   "cell_type": "markdown",
   "metadata": {
    "slideshow": {
     "slide_type": "subslide"
    }
   },
   "source": [
    "* template is a string or file containing one or more portions enclosed in double braces, {{...}}, called actions"
   ]
  },
  {
   "cell_type": "code",
   "execution_count": 4,
   "metadata": {
    "slideshow": {
     "slide_type": "fragment"
    }
   },
   "outputs": [
    {
     "name": "stdout",
     "output_type": "stream",
     "text": [
      "{{.TotalCount}} issues:\n",
      "{{range .Items}}----------------------------------------\n",
      "Number: {{.Number}}\n",
      "User:   {{.User.Login}}\n",
      "Title:  {{.Title | printf \"%.64s\"}}\n",
      "Age:    {{.CreatedAt | daysAgo}} days\n",
      "{{end}}\n"
     ]
    },
    {
     "data": {
      "text/plain": [
       "207 <nil>"
      ]
     },
     "execution_count": 4,
     "metadata": {},
     "output_type": "execute_result"
    }
   ],
   "source": [
    "import \"fmt\"\n",
    "const templ = `{{.TotalCount}} issues:\n",
    "{{range .Items}}----------------------------------------\n",
    "Number: {{.Number}}\n",
    "User:   {{.User.Login}}\n",
    "Title:  {{.Title | printf \"%.64s\"}}\n",
    "Age:    {{.CreatedAt | daysAgo}} days\n",
    "{{end}}`\n",
    "fmt.Println(templ)"
   ]
  },
  {
   "cell_type": "code",
   "execution_count": 12,
   "metadata": {
    "slideshow": {
     "slide_type": "fragment"
    }
   },
   "outputs": [
    {
     "name": "stdout",
     "output_type": "stream",
     "text": [
      "&{\"report\" %!q(*parse.Tree=&{report report 0xc000482f00 {{.TotalCount}} issues:\n",
      "{{range .Items}}----------------------------------------\n",
      "Number: {{.Number}}\n",
      "User:   {{.User.Login}}\n",
      "Title:  {{.Title | printf \"%.64s\"}}\n",
      "Age:    {{.CreatedAt | daysAgo}} days\n",
      "{{end}} [] <nil> [{7 206  7} {10 24 {{ 2} {0 0  0}] 1 [] map[]}) %!q(*template.common=&{map[report:0xc000421fc0] {0} {{0 0} 0 0 0 0} map[daysAgo:0xa98950] map[daysAgo:{0xc000439d40 0xc00053b410 19}]}) \"\" \"\"}\n"
     ]
    }
   ],
   "source": [
    "import (\"time\";\"text/template\";\"os\")\n",
    "func daysAgo(t time.Time) int {\n",
    "    return int(time.Since(t).Hours()/24)\n",
    "}\n",
    "report, err := template.New(\"report\").\n",
    "   Funcs(template.FuncMap{\"daysAgo\": daysAgo}).\n",
    "   Parse(templ)\n",
    "if (err != nil) {\n",
    "    fmt.Fprintln(os.Stderr,\"error\")\n",
    "} else {\n",
    "    fmt.Printf(\"%q\\n\",report)\n",
    "}"
   ]
  },
  {
   "cell_type": "code",
   "execution_count": 1,
   "metadata": {
    "slideshow": {
     "slide_type": "subslide"
    }
   },
   "outputs": [],
   "source": [
    "import (\"log\";\"os\";\"text/template\";\"time\";\"gopl.io/ch4/github\")\n",
    "const templ = `{{.TotalCount}} issues:\n",
    "{{range .Items}}----------------------------------------\n",
    "Number: {{.Number}}\n",
    "User:   {{.User.Login}}\n",
    "Title:  {{.Title | printf \"%.64s\"}}\n",
    "Age:    {{.CreatedAt | daysAgo}} days\n",
    "{{end}}`\n",
    "\n",
    "func daysAgo(t time.Time) int {\n",
    "\treturn int(time.Since(t).Hours() / 24)\n",
    "}\n",
    "\n",
    "var report = template.Must(template.New(\"issuelist\").\n",
    "\tFuncs(template.FuncMap{\"daysAgo\": daysAgo}).\n",
    "\tParse(templ))\n",
    "\n",
    "func main() {\n",
    "\tresult, err := github.SearchIssues(os.Args[1:])\n",
    "\tif err != nil {\n",
    "\t\tlog.Fatal(err)\n",
    "\t}\n",
    "\tif err := report.Execute(os.Stdout, result); err != nil {\n",
    "\t\tlog.Fatal(err)\n",
    "\t}\n",
    "}\n",
    "\n",
    "//!-exec\n",
    "\n",
    "func noMust() {\n",
    "\t//!+parse\n",
    "\treport, err := template.New(\"report\").\n",
    "\t\tFuncs(template.FuncMap{\"daysAgo\": daysAgo}).\n",
    "\t\tParse(templ)\n",
    "\tif err != nil {\n",
    "\t\tlog.Fatal(err)\n",
    "\t}\n",
    "\t//!-parse\n",
    "\tresult, err := github.SearchIssues(os.Args[1:])\n",
    "\tif err != nil {\n",
    "\t\tlog.Fatal(err)\n",
    "\t}\n",
    "\tif err := report.Execute(os.Stdout, result); err != nil {\n",
    "\t\tlog.Fatal(err)\n",
    "\t}\n",
    "}\n",
    "\n",
    "/*\n",
    "//!+output\n",
    "$ go build gopl.io/ch4/issuesreport\n",
    "$ ./issuesreport repo:golang/go is:open json decoder\n",
    "13 issues:\n",
    "----------------------------------------\n",
    "Number: 5680\n",
    "User:   eaigner\n",
    "Title:  encoding/json: set key converter on en/decoder\n",
    "Age:    750 days\n",
    "----------------------------------------\n",
    "Number: 6050\n",
    "User:   gopherbot\n",
    "Title:  encoding/json: provide tokenizer\n",
    "Age:    695 days\n",
    "----------------------------------------\n",
    "...\n",
    "//!-output\n",
    "*/"
   ]
  },
  {
   "cell_type": "code",
   "execution_count": 2,
   "metadata": {},
   "outputs": [
    {
     "name": "stdout",
     "output_type": "stream",
     "text": [
      "42 issues:\n",
      "----------------------------------------\n",
      "Number: 33416\n",
      "User:   bserdar\n",
      "Title:  encoding/json: This CL adds Decoder.InternKeys\n",
      "Age:    79 days\n",
      "----------------------------------------\n",
      "Number: 34647\n",
      "User:   babolivier\n",
      "Title:  encoding/json: fix byte counter increments when using decoder.To\n",
      "Age:    18 days\n",
      "----------------------------------------\n",
      "Number: 34543\n",
      "User:   maxatome\n",
      "Title:  encoding/json: Unmarshal & json.(*Decoder).Token report differen\n",
      "Age:    24 days\n",
      "----------------------------------------\n",
      "Number: 32779\n",
      "User:   rsc\n",
      "Title:  proposal: encoding/json: memoize strings during decode?\n",
      "Age:    116 days\n",
      "----------------------------------------\n",
      "Number: 34564\n",
      "User:   mdempsky\n",
      "Title:  go/internal/gcimporter: single source of truth for decoder logic\n",
      "Age:    23 days\n",
      "----------------------------------------\n",
      "Number: 28923\n",
      "User:   mvdan\n",
      "Title:  encoding/json: speed up the decoding scanner\n",
      "Age:    332 days\n",
      "----------------------------------------\n",
      "Number: 11046\n",
      "User:   kurin\n",
      "Title:  encoding/json: Decoder internally buffers full input\n",
      "Age:    1599 days\n",
      "----------------------------------------\n",
      "Number: 33854\n",
      "User:   Qhesz\n",
      "Title:  encoding/json: unmarshal option to treat omitted fields as null\n",
      "Age:    54 days\n",
      "----------------------------------------\n",
      "Number: 30301\n",
      "User:   zelch\n",
      "Title:  encoding/xml: option to treat unknown fields as an error\n",
      "Age:    243 days\n",
      "----------------------------------------\n",
      "Number: 26946\n",
      "User:   deuill\n",
      "Title:  encoding/json: clarify what happens when unmarshaling into a non\n",
      "Age:    433 days\n",
      "----------------------------------------\n",
      "Number: 33835\n",
      "User:   Qhesz\n",
      "Title:  encoding/json: unmarshalling null into non-nullable golang types\n",
      "Age:    55 days\n",
      "----------------------------------------\n",
      "Number: 12001\n",
      "User:   lukescott\n",
      "Title:  encoding/json: Marshaler/Unmarshaler not stream friendly\n",
      "Age:    1538 days\n",
      "----------------------------------------\n",
      "Number: 31789\n",
      "User:   mgritter\n",
      "Title:  encoding/json: provide a way to limit recursion depth\n",
      "Age:    171 days\n",
      "----------------------------------------\n",
      "Number: 29035\n",
      "User:   jaswdr\n",
      "Title:  proposal: encoding/json: add error var to compare  the returned \n",
      "Age:    324 days\n",
      "----------------------------------------\n",
      "Number: 31701\n",
      "User:   lr1980\n",
      "Title:  encoding/json: second decode after error impossible\n",
      "Age:    176 days\n",
      "----------------------------------------\n",
      "Number: 16212\n",
      "User:   josharian\n",
      "Title:  encoding/json: do all reflect work before decoding\n",
      "Age:    1207 days\n",
      "----------------------------------------\n",
      "Number: 33714\n",
      "User:   flimzy\n",
      "Title:  proposal: encoding/json: Opt-in for true streaming support\n",
      "Age:    62 days\n",
      "----------------------------------------\n",
      "Number: 22480\n",
      "User:   blixt\n",
      "Title:  proposal: encoding/json: add omitnil option\n",
      "Age:    721 days\n",
      "----------------------------------------\n",
      "Number: 28189\n",
      "User:   adnsv\n",
      "Title:  encoding/json: confusing errors when unmarshaling custom types\n",
      "Age:    371 days\n",
      "----------------------------------------\n",
      "Number: 5901\n",
      "User:   rsc\n",
      "Title:  encoding/json: allow override type marshaling\n",
      "Age:    2285 days\n",
      "----------------------------------------\n",
      "Number: 7872\n",
      "User:   extemporalgenome\n",
      "Title:  encoding/json: Encoder internally buffers full output\n",
      "Age:    2002 days\n",
      "----------------------------------------\n",
      "Number: 14750\n",
      "User:   cyberphone\n",
      "Title:  encoding/json: parser ignores the case of member names\n",
      "Age:    1319 days\n",
      "----------------------------------------\n",
      "Number: 30701\n",
      "User:   LouAdrien\n",
      "Title:  encoding/json: ignore tag \"-\" not working on embedded sub struct\n",
      "Age:    225 days\n",
      "----------------------------------------\n",
      "Number: 28143\n",
      "User:   arp242\n",
      "Title:  proposal: encoding/json: add \"readonly\" tag\n",
      "Age:    374 days\n",
      "----------------------------------------\n",
      "Number: 22752\n",
      "User:   buyology\n",
      "Title:  proposal: encoding/json: add access to the underlying data causi\n",
      "Age:    703 days\n",
      "----------------------------------------\n",
      "Number: 27179\n",
      "User:   lavalamp\n",
      "Title:  encoding/json: no way to preserve the order of map keys\n",
      "Age:    422 days\n",
      "----------------------------------------\n",
      "Number: 20754\n",
      "User:   rsc\n",
      "Title:  encoding/xml: unmarshal only processes first XML element\n",
      "Age:    849 days\n",
      "----------------------------------------\n",
      "Number: 34471\n",
      "User:   lmb\n",
      "Title:  proposal: encoding/binary: cache dataSize across invocations of \n",
      "Age:    27 days\n",
      "----------------------------------------\n",
      "Number: 20528\n",
      "User:   jvshahid\n",
      "Title:  net/http: connection reuse does not work happily with normal use\n",
      "Age:    873 days\n",
      "----------------------------------------\n",
      "Number: 22816\n",
      "User:   ganelon13\n",
      "Title:  encoding/json: include field name in unmarshal error messages wh\n",
      "Age:    699 days\n"
     ]
    }
   ],
   "source": [
    "os.Args = []string{\"issuereport\", \"repo:golang/go\",\"is:open\",\"json\",\"decoder\"}\n",
    "main()"
   ]
  },
  {
   "cell_type": "markdown",
   "metadata": {
    "slideshow": {
     "slide_type": "subslide"
    }
   },
   "source": [
    "* html/template use the same API and expression language as text/template\n",
    "* with HTML, JavaScript, CSS, or URLs"
   ]
  },
  {
   "cell_type": "code",
   "execution_count": 32,
   "metadata": {
    "slideshow": {
     "slide_type": "subslide"
    }
   },
   "outputs": [],
   "source": [
    "import (\"log\";\"os\";\"gopl.io/ch4/github\")\n",
    "\n",
    "//!+template\n",
    "import \"html/template\"\n",
    "\n",
    "var issueList = template.Must(template.New(\"issuelist\").Parse(`\n",
    "<h1>{{.TotalCount}} issues</h1>\n",
    "<table>\n",
    "<tr style='text-align: left'>\n",
    "  <th>#</th>\n",
    "  <th>State</th>\n",
    "  <th>User</th>\n",
    "  <th>Title</th>\n",
    "</tr>\n",
    "{{range .Items}}\n",
    "<tr>\n",
    "  <td><a href='{{.HTMLURL}}'>{{.Number}}</a></td>\n",
    "  <td>{{.State}}</td>\n",
    "  <td><a href='{{.User.HTMLURL}}'>{{.User.Login}}</a></td>\n",
    "  <td><a href='{{.HTMLURL}}'>{{.Title}}</a></td>\n",
    "</tr>\n",
    "{{end}}\n",
    "</table>\n",
    "`))\n",
    "\n",
    "//!-template\n",
    "\n",
    "//!+\n",
    "func main() {\n",
    "\tresult, err := github.SearchIssues(os.Args[1:])\n",
    "\tif err != nil {\n",
    "\t\tlog.Fatal(err)\n",
    "\t}\n",
    "\tif err := issueList.Execute(os.Stdout, result); err != nil {\n",
    "\t\tlog.Fatal(err)\n",
    "\t}\n",
    "}\n",
    "\n",
    "//!-"
   ]
  },
  {
   "cell_type": "code",
   "execution_count": 3,
   "metadata": {
    "slideshow": {
     "slide_type": "fragment"
    }
   },
   "outputs": [
    {
     "name": "stdout",
     "output_type": "stream",
     "text": [
      "\n",
      "<h1>37 issues</h1>\n",
      "<table>\n",
      "<tr style='text-align: left'>\n",
      "  <th>#</th>\n",
      "  <th>State</th>\n",
      "  <th>User</th>\n",
      "  <th>Title</th>\n",
      "</tr>\n",
      "\n",
      "<tr>\n",
      "  <td><a href='https://github.com/golang/go/issues/7872'>7872</a></td>\n",
      "  <td>open</td>\n",
      "  <td><a href='https://github.com/extemporalgenome'>extemporalgenome</a></td>\n",
      "  <td><a href='https://github.com/golang/go/issues/7872'>encoding/json: Encoder internally buffers full output</a></td>\n",
      "</tr>\n",
      "\n",
      "<tr>\n",
      "  <td><a href='https://github.com/golang/go/issues/27735'>27735</a></td>\n",
      "  <td>open</td>\n",
      "  <td><a href='https://github.com/dsnet'>dsnet</a></td>\n",
      "  <td><a href='https://github.com/golang/go/issues/27735'>encoding/json: incorrect usage of sync.Pool</a></td>\n",
      "</tr>\n",
      "\n",
      "<tr>\n",
      "  <td><a href='https://github.com/golang/go/issues/10769'>10769</a></td>\n",
      "  <td>open</td>\n",
      "  <td><a href='https://github.com/bep'>bep</a></td>\n",
      "  <td><a href='https://github.com/golang/go/issues/10769'>encoding/json: detect circular data structures when encoding</a></td>\n",
      "</tr>\n",
      "\n",
      "<tr>\n",
      "  <td><a href='https://github.com/golang/go/issues/28923'>28923</a></td>\n",
      "  <td>open</td>\n",
      "  <td><a href='https://github.com/mvdan'>mvdan</a></td>\n",
      "  <td><a href='https://github.com/golang/go/issues/28923'>encoding/json: speed up the decoding scanner</a></td>\n",
      "</tr>\n",
      "\n",
      "<tr>\n",
      "  <td><a href='https://github.com/golang/go/issues/34471'>34471</a></td>\n",
      "  <td>open</td>\n",
      "  <td><a href='https://github.com/lmb'>lmb</a></td>\n",
      "  <td><a href='https://github.com/golang/go/issues/34471'>proposal: encoding/binary: cache dataSize across invocations of Read and Write</a></td>\n",
      "</tr>\n",
      "\n",
      "<tr>\n",
      "  <td><a href='https://github.com/golang/go/issues/5819'>5819</a></td>\n",
      "  <td>open</td>\n",
      "  <td><a href='https://github.com/gopherbot'>gopherbot</a></td>\n",
      "  <td><a href='https://github.com/golang/go/issues/5819'>encoding/gob: encoder should ignore embedded structs with no exported fields</a></td>\n",
      "</tr>\n",
      "\n",
      "<tr>\n",
      "  <td><a href='https://github.com/golang/go/issues/25153'>25153</a></td>\n",
      "  <td>open</td>\n",
      "  <td><a href='https://github.com/dominicbarnes'>dominicbarnes</a></td>\n",
      "  <td><a href='https://github.com/golang/go/issues/25153'>encoding/json: include property name for marshal errors</a></td>\n",
      "</tr>\n",
      "\n",
      "<tr>\n",
      "  <td><a href='https://github.com/golang/go/issues/21399'>21399</a></td>\n",
      "  <td>open</td>\n",
      "  <td><a href='https://github.com/halfcrazy'>halfcrazy</a></td>\n",
      "  <td><a href='https://github.com/golang/go/issues/21399'>encoding/xml: cannot marshal self-closing tag</a></td>\n",
      "</tr>\n",
      "\n",
      "<tr>\n",
      "  <td><a href='https://github.com/golang/go/issues/11939'>11939</a></td>\n",
      "  <td>open</td>\n",
      "  <td><a href='https://github.com/joeshaw'>joeshaw</a></td>\n",
      "  <td><a href='https://github.com/golang/go/issues/11939'>proposal: encoding/json, encoding/xml: support zero values of structs with omitempty</a></td>\n",
      "</tr>\n",
      "\n",
      "<tr>\n",
      "  <td><a href='https://github.com/golang/go/issues/20206'>20206</a></td>\n",
      "  <td>open</td>\n",
      "  <td><a href='https://github.com/markdryan'>markdryan</a></td>\n",
      "  <td><a href='https://github.com/golang/go/issues/20206'>encoding/base64: encoding is slow</a></td>\n",
      "</tr>\n",
      "\n",
      "<tr>\n",
      "  <td><a href='https://github.com/golang/go/issues/34235'>34235</a></td>\n",
      "  <td>closed</td>\n",
      "  <td><a href='https://github.com/wI2L'>wI2L</a></td>\n",
      "  <td><a href='https://github.com/golang/go/issues/34235'>encoding/json: marshaling a zero value encoding.TextMarshaler interface struct field panics</a></td>\n",
      "</tr>\n",
      "\n",
      "<tr>\n",
      "  <td><a href='https://github.com/golang/go/issues/19636'>19636</a></td>\n",
      "  <td>open</td>\n",
      "  <td><a href='https://github.com/josselin-c'>josselin-c</a></td>\n",
      "  <td><a href='https://github.com/golang/go/issues/19636'>encoding/base64: decoding is slow</a></td>\n",
      "</tr>\n",
      "\n",
      "<tr>\n",
      "  <td><a href='https://github.com/golang/go/issues/33675'>33675</a></td>\n",
      "  <td>closed</td>\n",
      "  <td><a href='https://github.com/wI2L'>wI2L</a></td>\n",
      "  <td><a href='https://github.com/golang/go/issues/33675'>encoding/json: panic for nil map key types implementing TextMarshaler</a></td>\n",
      "</tr>\n",
      "\n",
      "<tr>\n",
      "  <td><a href='https://github.com/golang/go/issues/32896'>32896</a></td>\n",
      "  <td>closed</td>\n",
      "  <td><a href='https://github.com/nkovacs'>nkovacs</a></td>\n",
      "  <td><a href='https://github.com/golang/go/issues/32896'>encoding/json: addrMarshalerEncoder does not respect SetEscapeHTML</a></td>\n",
      "</tr>\n",
      "\n",
      "<tr>\n",
      "  <td><a href='https://github.com/golang/go/issues/5683'>5683</a></td>\n",
      "  <td>closed</td>\n",
      "  <td><a href='https://github.com/gopherbot'>gopherbot</a></td>\n",
      "  <td><a href='https://github.com/golang/go/issues/5683'>encoding/json: performance slower than expected</a></td>\n",
      "</tr>\n",
      "\n",
      "<tr>\n",
      "  <td><a href='https://github.com/golang/go/issues/17704'>17704</a></td>\n",
      "  <td>closed</td>\n",
      "  <td><a href='https://github.com/dsnet'>dsnet</a></td>\n",
      "  <td><a href='https://github.com/golang/go/issues/17704'>encoding/json: regression in handling of nil RawMessage</a></td>\n",
      "</tr>\n",
      "\n",
      "<tr>\n",
      "  <td><a href='https://github.com/golang/go/issues/25426'>25426</a></td>\n",
      "  <td>open</td>\n",
      "  <td><a href='https://github.com/josharian'>josharian</a></td>\n",
      "  <td><a href='https://github.com/golang/go/issues/25426'>cmd/compile: revisit statement boundaries CL peformance and binary size impact</a></td>\n",
      "</tr>\n",
      "\n",
      "<tr>\n",
      "  <td><a href='https://github.com/golang/go/issues/11940'>11940</a></td>\n",
      "  <td>closed</td>\n",
      "  <td><a href='https://github.com/lukescott'>lukescott</a></td>\n",
      "  <td><a href='https://github.com/golang/go/issues/11940'>proposal: encoding/json: Encode channel as array</a></td>\n",
      "</tr>\n",
      "\n",
      "<tr>\n",
      "  <td><a href='https://github.com/golang/go/issues/34298'>34298</a></td>\n",
      "  <td>closed</td>\n",
      "  <td><a href='https://github.com/pmalek'>pmalek</a></td>\n",
      "  <td><a href='https://github.com/golang/go/issues/34298'>x/tools/gopls: error checking package</a></td>\n",
      "</tr>\n",
      "\n",
      "<tr>\n",
      "  <td><a href='https://github.com/golang/go/issues/4146'>4146</a></td>\n",
      "  <td>open</td>\n",
      "  <td><a href='https://github.com/bradfitz'>bradfitz</a></td>\n",
      "  <td><a href='https://github.com/golang/go/issues/4146'>reflect: MakeInterface</a></td>\n",
      "</tr>\n",
      "\n",
      "<tr>\n",
      "  <td><a href='https://github.com/golang/go/issues/23077'>23077</a></td>\n",
      "  <td>closed</td>\n",
      "  <td><a href='https://github.com/pciet'>pciet</a></td>\n",
      "  <td><a href='https://github.com/golang/go/issues/23077'>proposal: Go 2: remove interface{} use from the standard library</a></td>\n",
      "</tr>\n",
      "\n",
      "<tr>\n",
      "  <td><a href='https://github.com/golang/go/issues/21590'>21590</a></td>\n",
      "  <td>closed</td>\n",
      "  <td><a href='https://github.com/Hamcha'>Hamcha</a></td>\n",
      "  <td><a href='https://github.com/golang/go/issues/21590'>proposal: encoding/hex: add an encoder and decoder</a></td>\n",
      "</tr>\n",
      "\n",
      "<tr>\n",
      "  <td><a href='https://github.com/golang/go/issues/19348'>19348</a></td>\n",
      "  <td>closed</td>\n",
      "  <td><a href='https://github.com/davidlazar'>davidlazar</a></td>\n",
      "  <td><a href='https://github.com/golang/go/issues/19348'>cmd/compile: enable mid-stack inlining</a></td>\n",
      "</tr>\n",
      "\n",
      "<tr>\n",
      "  <td><a href='https://github.com/golang/go/issues/28792'>28792</a></td>\n",
      "  <td>closed</td>\n",
      "  <td><a href='https://github.com/thinkerou'>thinkerou</a></td>\n",
      "  <td><a href='https://github.com/golang/go/issues/28792'>cmd/vet: incorrect error on a MarshalXML method</a></td>\n",
      "</tr>\n",
      "\n",
      "<tr>\n",
      "  <td><a href='https://github.com/golang/go/issues/26264'>26264</a></td>\n",
      "  <td>closed</td>\n",
      "  <td><a href='https://github.com/mvdan'>mvdan</a></td>\n",
      "  <td><a href='https://github.com/golang/go/issues/26264'>bytes: WriteString, WriteByte and Write vary in performance</a></td>\n",
      "</tr>\n",
      "\n",
      "<tr>\n",
      "  <td><a href='https://github.com/golang/go/issues/30101'>30101</a></td>\n",
      "  <td>closed</td>\n",
      "  <td><a href='https://github.com/dmitshur'>dmitshur</a></td>\n",
      "  <td><a href='https://github.com/golang/go/issues/30101'>x/build/maintner: GerritCL.Subject doesn&#39;t include entire subject if it&#39;s split across multiple lines</a></td>\n",
      "</tr>\n",
      "\n",
      "<tr>\n",
      "  <td><a href='https://github.com/golang/go/issues/17255'>17255</a></td>\n",
      "  <td>closed</td>\n",
      "  <td><a href='https://github.com/xoba'>xoba</a></td>\n",
      "  <td><a href='https://github.com/golang/go/issues/17255'>encoding/json docs reference an unknown entity &#34;DisableHTMLEscaping&#34;</a></td>\n",
      "</tr>\n",
      "\n",
      "<tr>\n",
      "  <td><a href='https://github.com/golang/go/issues/14493'>14493</a></td>\n",
      "  <td>closed</td>\n",
      "  <td><a href='https://github.com/niemeyer'>niemeyer</a></td>\n",
      "  <td><a href='https://github.com/golang/go/issues/14493'>encoding/json: RawMessage marshals as base64</a></td>\n",
      "</tr>\n",
      "\n",
      "<tr>\n",
      "  <td><a href='https://github.com/golang/go/issues/6492'>6492</a></td>\n",
      "  <td>closed</td>\n",
      "  <td><a href='https://github.com/kisielk'>kisielk</a></td>\n",
      "  <td><a href='https://github.com/golang/go/issues/6492'>encoding/json: Add Encoder.Indent</a></td>\n",
      "</tr>\n"
     ]
    },
    {
     "name": "stdout",
     "output_type": "stream",
     "text": [
      "\n",
      "<tr>\n",
      "  <td><a href='https://github.com/golang/go/issues/6901'>6901</a></td>\n",
      "  <td>closed</td>\n",
      "  <td><a href='https://github.com/lukescott'>lukescott</a></td>\n",
      "  <td><a href='https://github.com/golang/go/issues/6901'>encoding/json, encoding/xml: option to treat unknown fields as an error</a></td>\n",
      "</tr>\n",
      "\n",
      "</table>\n"
     ]
    }
   ],
   "source": [
    "os.Args = []string{\"issuehtml\",\"repo:golang/go\",\"commenter:gopherbot\",\"json\",\"encoder\"}\n",
    "main()"
   ]
  },
  {
   "cell_type": "markdown",
   "metadata": {
    "slideshow": {
     "slide_type": "subslide"
    }
   },
   "source": [
    "[issues.html](http://skhuang.github.io/ch4/issues.html)"
   ]
  },
  {
   "cell_type": "code",
   "execution_count": 33,
   "metadata": {
    "slideshow": {
     "slide_type": "fragment"
    }
   },
   "outputs": [
    {
     "name": "stdout",
     "output_type": "stream",
     "text": [
      "\n",
      "<h1>2 issues</h1>\n",
      "<table>\n",
      "<tr style='text-align: left'>\n",
      "  <th>#</th>\n",
      "  <th>State</th>\n",
      "  <th>User</th>\n",
      "  <th>Title</th>\n",
      "</tr>\n",
      "\n",
      "<tr>\n",
      "  <td><a href='https://github.com/golang/go/issues/10535'>10535</a></td>\n",
      "  <td>open</td>\n",
      "  <td><a href='https://github.com/dvyukov'>dvyukov</a></td>\n",
      "  <td><a href='https://github.com/golang/go/issues/10535'>x/net/html: void element &lt;link&gt; has child nodes</a></td>\n",
      "</tr>\n",
      "\n",
      "<tr>\n",
      "  <td><a href='https://github.com/golang/go/issues/3133'>3133</a></td>\n",
      "  <td>closed</td>\n",
      "  <td><a href='https://github.com/ukai'>ukai</a></td>\n",
      "  <td><a href='https://github.com/golang/go/issues/3133'>html/template: escape xmldesc as &amp;lt;?xml</a></td>\n",
      "</tr>\n",
      "\n",
      "</table>\n"
     ]
    }
   ],
   "source": [
    "os.Args = []string{\"issuehtml\",\"repo:golang/go\",\"3133\",\"10535\"}\n",
    "main()"
   ]
  },
  {
   "cell_type": "markdown",
   "metadata": {
    "slideshow": {
     "slide_type": "fragment"
    }
   },
   "source": [
    "[issue2.html](https://skhuang.github.io/ch4/issues2.html)"
   ]
  },
  {
   "cell_type": "code",
   "execution_count": 41,
   "metadata": {
    "slideshow": {
     "slide_type": "subslide"
    }
   },
   "outputs": [
    {
     "ename": "ERROR",
     "evalue": "repl.go:13:5: error compiling assignment: data.B = \"<b>Hello!</b>\"\n\treflect.Value.Convert: value of type reflect.Value cannot be converted to type template.HTML",
     "output_type": "error",
     "traceback": [
      "repl.go:13:5: error compiling assignment: data.B = \"<b>Hello!</b>\"\n\treflect.Value.Convert: value of type reflect.Value cannot be converted to type template.HTML"
     ]
    }
   ],
   "source": [
    "import (\"fmt\";\"html/template\";\"log\";\"os\")\n",
    "\n",
    "//!+\n",
    "func main() {\n",
    "\tconst templ = `<p>A: {{.A}}</p><p>B: {{.B}}</p>`\n",
    "\tt := template.Must(template.New(\"escape\").Parse(templ))\n",
    "\tvar data struct {\n",
    "\t\tA string        // untrusted plain text\n",
    "\t\tB template.HTML // trusted HTML\n",
    "\t}\n",
    "    fmt.Printf(\"%T\\n\",data)\n",
    "    data.A = \"<b>Hello!</b>\"\n",
    "    data.B = \"<b>Hello!</b>\"\n",
    "    var  b template.HTML= template.HTML(\"test\")\n",
    "\tif err := t.Execute(os.Stdout, data); err != nil {\n",
    "\t\tlog.Fatal(err)\n",
    "\t}\n",
    "}\n",
    "\n",
    "//main()\n",
    "//!-"
   ]
  },
  {
   "cell_type": "markdown",
   "metadata": {
    "slideshow": {
     "slide_type": "subslide"
    }
   },
   "source": [
    "[autoescape.html](http://skhuang.github.io/ch4/autoescape.html)"
   ]
  }
 ],
 "metadata": {
  "celltoolbar": "Slideshow",
  "kernelspec": {
   "display_name": "Go",
   "language": "go",
   "name": "gophernotes"
  },
  "language_info": {
   "codemirror_mode": "",
   "file_extension": ".go",
   "mimetype": "",
   "name": "go",
   "nbconvert_exporter": "",
   "pygments_lexer": "",
   "version": "go1.13"
  },
  "rise": {
   "enable_chalkboard": true,
   "scroll": true
  }
 },
 "nbformat": 4,
 "nbformat_minor": 2
}
